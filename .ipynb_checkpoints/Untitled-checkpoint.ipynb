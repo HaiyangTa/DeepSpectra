{
 "cells": [
  {
   "cell_type": "code",
   "execution_count": 1,
   "id": "f925399e-b5bd-4047-abe7-48c47f949343",
   "metadata": {},
   "outputs": [],
   "source": [
    "from tano_signal import *"
   ]
  },
  {
   "cell_type": "code",
   "execution_count": 2,
   "id": "d8270b5a-6d25-404f-a22f-9be2b875d072",
   "metadata": {},
   "outputs": [],
   "source": [
    "u = tano_signal.model.spectra_cnn_transformer"
   ]
  },
  {
   "cell_type": "code",
   "execution_count": 4,
   "id": "019940da-4a1b-4ea6-bb4a-a18bb9189c3b",
   "metadata": {},
   "outputs": [
    {
     "ename": "NameError",
     "evalue": "name 'pynum' is not defined",
     "output_type": "error",
     "traceback": [
      "\u001b[1;31m---------------------------------------------------------------------------\u001b[0m",
      "\u001b[1;31mNameError\u001b[0m                                 Traceback (most recent call last)",
      "Cell \u001b[1;32mIn[4], line 1\u001b[0m\n\u001b[1;32m----> 1\u001b[0m A  \u001b[38;5;241m=\u001b[39m \u001b[43mpynum\u001b[49m\u001b[38;5;241m.\u001b[39marray([[[\u001b[38;5;241m10\u001b[39m,\u001b[38;5;241m20\u001b[39m,\u001b[38;5;241m30\u001b[39m,\u001b[38;5;241m40\u001b[39m], [\u001b[38;5;241m50\u001b[39m,\u001b[38;5;241m60\u001b[39m,\u001b[38;5;241m70\u001b[39m,\u001b[38;5;241m80\u001b[39m]]])\n",
      "\u001b[1;31mNameError\u001b[0m: name 'pynum' is not defined"
     ]
    }
   ],
   "source": [
    "A  = pynum.array([[[10,20,30,40], [50,60,70,80]]])"
   ]
  },
  {
   "cell_type": "code",
   "execution_count": null,
   "id": "282f7f3b-026d-4ebf-9143-72655b16fdff",
   "metadata": {},
   "outputs": [],
   "source": []
  },
  {
   "cell_type": "code",
   "execution_count": null,
   "id": "f2e60606-807a-4c72-8e33-c3f66afd8f51",
   "metadata": {},
   "outputs": [],
   "source": []
  },
  {
   "cell_type": "code",
   "execution_count": null,
   "id": "fd32398d-ddd8-4422-abab-60b865733c47",
   "metadata": {},
   "outputs": [],
   "source": []
  },
  {
   "cell_type": "code",
   "execution_count": null,
   "id": "f4312038-47eb-40a9-9e1e-70ec39d1498c",
   "metadata": {},
   "outputs": [],
   "source": []
  },
  {
   "cell_type": "code",
   "execution_count": null,
   "id": "66438856-dddb-4f91-bcc2-70ca0aa946e6",
   "metadata": {},
   "outputs": [],
   "source": []
  },
  {
   "cell_type": "code",
   "execution_count": null,
   "id": "17d1cb52-a24c-4816-ae80-f70e0ad82690",
   "metadata": {},
   "outputs": [],
   "source": []
  }
 ],
 "metadata": {
  "kernelspec": {
   "display_name": "Python 3 (ipykernel)",
   "language": "python",
   "name": "python3"
  },
  "language_info": {
   "codemirror_mode": {
    "name": "ipython",
    "version": 3
   },
   "file_extension": ".py",
   "mimetype": "text/x-python",
   "name": "python",
   "nbconvert_exporter": "python",
   "pygments_lexer": "ipython3",
   "version": "3.9.16"
  }
 },
 "nbformat": 4,
 "nbformat_minor": 5
}
