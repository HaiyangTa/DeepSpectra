{
 "cells": [
  {
   "cell_type": "markdown",
   "id": "36737934-3386-45e4-a936-e1faba91c343",
   "metadata": {},
   "source": [
    "# Software Testing"
   ]
  },
  {
   "cell_type": "code",
   "execution_count": 1,
   "id": "760c367a-2fea-43d6-a704-4e9e95433084",
   "metadata": {},
   "outputs": [],
   "source": [
    "import unittest\n",
    "import copy\n",
    "import os\n",
    "from astropy.io  import fits\n",
    "from software_testing import data_changer_test, data_loader_test,model_predictor_test\n",
    "import numpy as np"
   ]
  },
  {
   "cell_type": "code",
   "execution_count": 2,
   "id": "1fa7b715-1899-43ee-898e-53e364fd1465",
   "metadata": {},
   "outputs": [
    {
     "name": "stdout",
     "output_type": "stream",
     "text": [
      "C:\\Users\\Administrator-1\\Desktop\\New folder (6)\\tano_signal\n"
     ]
    }
   ],
   "source": [
    "print(os.getcwd())"
   ]
  },
  {
   "cell_type": "markdown",
   "id": "9d28c167-7d5a-43d9-8093-ace40b4bbba8",
   "metadata": {},
   "source": [
    "## Data preparation"
   ]
  },
  {
   "cell_type": "code",
   "execution_count": 3,
   "id": "614a6343-9da1-4c92-a83a-c69fa3318ff3",
   "metadata": {},
   "outputs": [
    {
     "name": "stdout",
     "output_type": "stream",
     "text": [
      "C:\\Users\\Administrator-1\\Desktop\\New folder (6)\\tano_signal\\data\\saury2014\\cubes\n",
      "C:\\Users\\Administrator-1\\Desktop\\New folder (6)\\tano_signal\\data\\saury2014\\fcnm\n",
      "C:\\Users\\Administrator-1\\Desktop\\New folder (6)\\tano_signal\\data\\saury2014\\RHI\n"
     ]
    }
   ],
   "source": [
    "base_path = os.getcwd()\n",
    "data_path  = os.path.join(base_path, 'data')\n",
    "data_cube_path = os.path.join(data_path, 'saury2014','cubes')\n",
    "fcnm_path = os.path.join(data_path, 'saury2014','fcnm')\n",
    "rhi_path = os.path.join(data_path, 'saury2014','RHI')\n",
    "print(data_cube_path)\n",
    "print(fcnm_path)\n",
    "print(rhi_path)"
   ]
  },
  {
   "cell_type": "code",
   "execution_count": 4,
   "id": "dd038471-b5ca-4ec1-aafa-1b8ec88cb12f",
   "metadata": {},
   "outputs": [
    {
     "name": "stdout",
     "output_type": "stream",
     "text": [
      "C:\\Users\\Administrator-1\\Desktop\\New folder (6)\\tano_signal\\data\\saury2014\\cubes\\Tb_n01_pw02_vs12_512_thick_quarter_0_noise_1.0_K_beam_1.45_pix_.fits\n",
      "C:\\Users\\Administrator-1\\Desktop\\New folder (6)\\tano_signal\\data\\saury2014\\fcnm\\fcnm_map_n01_pw02_vs12_Tcut_500K_512px_quarter_0_noise.fits\n",
      "C:\\Users\\Administrator-1\\Desktop\\New folder (6)\\tano_signal\\data\\saury2014\\RHI\\R_map_n01_pw02_vs12_512px_quarter_0_noise.fits\n"
     ]
    }
   ],
   "source": [
    "# Training and test datasets\n",
    "# 1. Datacubes: 04 datacubes with size of (512 x 512 x 101)\n",
    "training_data_file_q0 = 'Tb_n01_pw02_vs12_512_thick_quarter_0_noise_1.0_K_beam_1.45_pix_.fits'\n",
    "training_data_file_q1 = 'Tb_n01_pw02_vs12_512_thick_quarter_1_noise_1.0_K_beam_1.45_pix_.fits'\n",
    "training_data_file_q2 = 'Tb_n01_pw02_vs12_512_thick_quarter_2_noise_1.0_K_beam_1.45_pix_.fits'\n",
    "training_data_file_q3 = 'Tb_n01_pw02_vs12_512_thick_quarter_3_noise_1.0_K_beam_1.45_pix_.fits'\n",
    "\n",
    "training_data_file_q0 = os.path.join(data_cube_path, training_data_file_q0)\n",
    "training_data_file_q1 = os.path.join(data_cube_path, training_data_file_q1)\n",
    "training_data_file_q2 = os.path.join(data_cube_path, training_data_file_q2)\n",
    "training_data_file_q3 = os.path.join(data_cube_path, training_data_file_q3)\n",
    "\n",
    "# 2a. R_HI maps\n",
    "rhi_file_q0 = 'R_map_n01_pw02_vs12_512px_quarter_0_noise.fits'\n",
    "rhi_file_q1 = 'R_map_n01_pw02_vs12_512px_quarter_1_noise.fits'\n",
    "rhi_file_q2 = 'R_map_n01_pw02_vs12_512px_quarter_2_noise.fits'\n",
    "rhi_file_q3 = 'R_map_n01_pw02_vs12_512px_quarter_3_noise.fits'\n",
    "\n",
    "rhi_file_q0 = os.path.join(rhi_path, rhi_file_q0)\n",
    "rhi_file_q1 = os.path.join(rhi_path, rhi_file_q1)\n",
    "rhi_file_q2 = os.path.join(rhi_path, rhi_file_q2)\n",
    "rhi_file_q3 = os.path.join(rhi_path, rhi_file_q3)\n",
    "\n",
    "# 3a. FCNM maps with noise\n",
    "fcnm_file_q0 = 'fcnm_map_n01_pw02_vs12_Tcut_500K_512px_quarter_0_noise.fits'\n",
    "fcnm_file_q1 = 'fcnm_map_n01_pw02_vs12_Tcut_500K_512px_quarter_1_noise.fits'\n",
    "fcnm_file_q2 = 'fcnm_map_n01_pw02_vs12_Tcut_500K_512px_quarter_2_noise.fits'\n",
    "fcnm_file_q3 = 'fcnm_map_n01_pw02_vs12_Tcut_500K_512px_quarter_3_noise.fits'\n",
    "\n",
    "fcnm_file_q0 = os.path.join(fcnm_path, fcnm_file_q0)\n",
    "fcnm_file_q1 = os.path.join(fcnm_path, fcnm_file_q1)\n",
    "fcnm_file_q2 = os.path.join(fcnm_path, fcnm_file_q2)\n",
    "fcnm_file_q3 = os.path.join(fcnm_path, fcnm_file_q3)\n",
    "\n",
    "print(training_data_file_q0)\n",
    "print(fcnm_file_q0)\n",
    "print(rhi_file_q0)"
   ]
  },
  {
   "cell_type": "code",
   "execution_count": 5,
   "id": "edcef5b2-11d5-4a27-99e5-bc89f9191531",
   "metadata": {},
   "outputs": [],
   "source": [
    "cube, header1 = fits.getdata(training_data_file_q0, header=True)\n",
    "#\n",
    "fcnm_data, header1 = fits.getdata(fcnm_file_q0, header=True)\n",
    "#\n",
    "rhi_data, header1 = fits.getdata(rhi_file_q0, header=True)"
   ]
  },
  {
   "cell_type": "code",
   "execution_count": 6,
   "id": "c6870f05-19bb-4194-abdf-3e34161e188c",
   "metadata": {},
   "outputs": [
    {
     "name": "stdout",
     "output_type": "stream",
     "text": [
      "(101, 512, 512)\n",
      "(512, 512)\n",
      "(512, 512)\n"
     ]
    }
   ],
   "source": [
    "print(cube.shape)\n",
    "print(fcnm_data.shape)\n",
    "print(rhi_data.shape)"
   ]
  },
  {
   "cell_type": "code",
   "execution_count": 7,
   "id": "99befbbe-a1a0-4f22-8165-fbe99439e2ec",
   "metadata": {},
   "outputs": [],
   "source": [
    "dictt_gt = {}\n",
    "# cube 1\n",
    "num=512*512\n",
    "for i in range(0, num):\n",
    "    index=i\n",
    "    row_index = index//512\n",
    "    column_index = index%512\n",
    "    dictt_gt[i] = (cube[:,row_index, column_index ],[row_index, column_index], [fcnm_data[row_index, column_index], rhi_data[row_index, column_index]] )"
   ]
  },
  {
   "cell_type": "code",
   "execution_count": 8,
   "id": "8510402e-115e-4160-bedb-975ac765d99a",
   "metadata": {},
   "outputs": [],
   "source": [
    "dictt = {}\n",
    "# cube 1\n",
    "num=512*512\n",
    "for i in range(0, num):\n",
    "    index=i\n",
    "    row_index = index//512\n",
    "    column_index = index%512\n",
    "    dictt[i] = (cube[:,row_index, column_index ],[row_index, column_index])"
   ]
  },
  {
   "cell_type": "markdown",
   "id": "c68cdaa4-ab74-40c9-91bd-b138ca5121ce",
   "metadata": {},
   "source": [
    "## Test cases for data changer block"
   ]
  },
  {
   "cell_type": "code",
   "execution_count": 9,
   "id": "d978f0c4-50f4-43ef-b971-0b413b390960",
   "metadata": {},
   "outputs": [
    {
     "name": "stdout",
     "output_type": "stream",
     "text": [
      "start 1\n",
      "pass 1\n",
      "start 2\n",
      "pass 2\n",
      "start 3\n",
      "pass 3\n",
      "start 4\n",
      "pass 4\n",
      "start 5\n",
      "pass 5\n",
      "start 6\n",
      "pass 6\n",
      "start 7\n",
      "dictionary generate successfully! Disctionary structure : [key : (spectra , coordinates , [Fcnm, Rhi])]\n",
      "pass 7\n",
      "start 8\n",
      "dictionary generate successfully! Disctionary structure: [key : (spectra , coordinates)]\n",
      "pass 8\n",
      "start 9\n",
      "No ground truth data! Please use method make_dict.!\n",
      "pass 9\n"
     ]
    }
   ],
   "source": [
    "dct = data_changer_test(dictt=dictt, dictt_gt = dictt_gt, cube=cube, fcnm=fcnm_data, rhi=rhi_data)\n",
    "dct.preprocess_test1()\n",
    "dct.preprocess_test2()\n",
    "dct.preprocess_test3()\n",
    "dct.preprocess_test4()\n",
    "dct.preprocess_test5()\n",
    "dct.preprocess_test6()\n",
    "dct.dictionarizer_test7()\n",
    "dct.dictionarizer_test8()\n",
    "dct.dictionarizer_test9()"
   ]
  },
  {
   "cell_type": "markdown",
   "id": "4c65b139-25bd-44fc-beec-2319cce70cca",
   "metadata": {},
   "source": [
    "## Test cases for data_loader.py"
   ]
  },
  {
   "cell_type": "code",
   "execution_count": 10,
   "id": "c8a02dd6-b3ff-497a-8de4-dfb003b114c0",
   "metadata": {},
   "outputs": [
    {
     "name": "stdout",
     "output_type": "stream",
     "text": [
      "start 1\n",
      "dictionary generate successfully! Disctionary structure : [key : (spectra , coordinates , [Fcnm, Rhi])]\n",
      "pass 1\n",
      "start 2\n",
      "dictionary generate successfully! Disctionary structure : [key : (spectra , coordinates , [Fcnm, Rhi])]\n",
      "pass 2\n",
      "start 3\n",
      "dictionary generate successfully! Disctionary structure : [key : (spectra , coordinates , [Fcnm, Rhi])]\n",
      "pass 3\n",
      "start 4\n",
      "dictionary generate successfully! Disctionary structure : [key : (spectra , coordinates , [Fcnm, Rhi])]\n",
      "pass 4\n",
      "start 5\n",
      "dictionary generate successfully! Disctionary structure : [key : (spectra , coordinates , [Fcnm, Rhi])]\n",
      "pass 5\n",
      "start 6\n",
      "dictionary generate successfully! Disctionary structure : [key : (spectra , coordinates , [Fcnm, Rhi])]\n",
      "pass 6\n"
     ]
    }
   ],
   "source": [
    "dct = data_loader_test(cube=cube, fcnm=fcnm_data, rhi=rhi_data)\n",
    "dct.loader_test1()\n",
    "dct.loader_test2()\n",
    "dct.loader_test3()\n",
    "dct.loader_test4()\n",
    "dct.loader_test5()\n",
    "dct.loader_test6()"
   ]
  },
  {
   "cell_type": "markdown",
   "id": "a8fb74f2-8b46-4207-a4c7-ef53601b2470",
   "metadata": {},
   "source": [
    "## Test cases for predictor and model block"
   ]
  },
  {
   "cell_type": "code",
   "execution_count": 11,
   "id": "72fbdd5d-71d2-4808-8e4c-fb5cc7165eb9",
   "metadata": {},
   "outputs": [
    {
     "name": "stdout",
     "output_type": "stream",
     "text": [
      "C:\\Users\\Administrator-1\\Desktop\\New folder (6)\\tano_signal\\tano_signal\\models\\poly_concate.pth\n",
      "C:\\Users\\Administrator-1\\Desktop\\New folder (6)\\tano_signal\\tano_signal\\models\\learnable_PEV.pth\n",
      "sucessfully load the weights!\n",
      "sucessfully load the weights!\n"
     ]
    }
   ],
   "source": [
    "dct = model_predictor_test(cube=cube, fcnm=fcnm_data, rhi=rhi_data)"
   ]
  },
  {
   "cell_type": "code",
   "execution_count": null,
   "id": "e1717a60-cb10-4e22-a2ff-119fc8fc3b21",
   "metadata": {},
   "outputs": [
    {
     "name": "stdout",
     "output_type": "stream",
     "text": [
      "test CNN\n",
      "dictionary generate successfully! Disctionary structure: [key : (spectra , coordinates)]\n",
      "progress=\n",
      "100.00%\r"
     ]
    }
   ],
   "source": [
    "dct.calculate_test1()\n",
    "dct.calculate_test2()"
   ]
  },
  {
   "cell_type": "code",
   "execution_count": null,
   "id": "3f88afe7-f37a-4669-969b-c24e91fddde9",
   "metadata": {},
   "outputs": [],
   "source": []
  },
  {
   "cell_type": "code",
   "execution_count": null,
   "id": "0f7ece2d-b3c0-469c-8781-5530769e3612",
   "metadata": {},
   "outputs": [],
   "source": []
  },
  {
   "cell_type": "code",
   "execution_count": null,
   "id": "95006403-e729-4e2a-9344-c833017b0d0d",
   "metadata": {},
   "outputs": [],
   "source": []
  },
  {
   "cell_type": "code",
   "execution_count": null,
   "id": "ddb3feb6-7742-43c9-96bb-e7d77a24b80a",
   "metadata": {},
   "outputs": [],
   "source": []
  }
 ],
 "metadata": {
  "kernelspec": {
   "display_name": "Python 3 (ipykernel)",
   "language": "python",
   "name": "python3"
  },
  "language_info": {
   "codemirror_mode": {
    "name": "ipython",
    "version": 3
   },
   "file_extension": ".py",
   "mimetype": "text/x-python",
   "name": "python",
   "nbconvert_exporter": "python",
   "pygments_lexer": "ipython3",
   "version": "3.9.16"
  }
 },
 "nbformat": 4,
 "nbformat_minor": 5
}
